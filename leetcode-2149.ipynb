{
 "cells": [
  {
   "cell_type": "code",
   "execution_count": 26,
   "id": "324e51c6-e9b1-462c-8951-1ff324dd5106",
   "metadata": {},
   "outputs": [
    {
     "name": "stdout",
     "output_type": "stream",
     "text": [
      "[1]\n",
      "[-1]\n"
     ]
    },
    {
     "data": {
      "text/plain": [
       "[1, -1]"
      ]
     },
     "execution_count": 26,
     "metadata": {},
     "output_type": "execute_result"
    }
   ],
   "source": [
    "nums = [-1,1]\n",
    "def rearrangeArray(nums):\n",
    "    positive_integers= []\n",
    "    negative_integers= []\n",
    "    for num in nums:\n",
    "        if num>=0:\n",
    "            positive_integers.append(num)\n",
    "        else:\n",
    "            negative_integers.append(num)\n",
    "    print(positive_integers)\n",
    "    print(negative_integers)\n",
    "    pos_len= len(positive_integers)\n",
    "    neg_len= len(negative_integers)\n",
    "    total_len= pos_len+ neg_len\n",
    "    new_list= []\n",
    "    for i in range(total_len):\n",
    "        if i < pos_len and i < neg_len:\n",
    "            new_list.append(positive_integers[i])\n",
    "            new_list.append(negative_integers[i])\n",
    "        elif i < pos_len:\n",
    "            new_list.append(positive_integers[i])\n",
    "        elif i < neg_len:\n",
    "            new_list.append(negative_integers[i])\n",
    "\n",
    "    return new_list\n",
    "rearrangeArray(nums)"
   ]
  },
  {
   "cell_type": "code",
   "execution_count": null,
   "id": "b8f385ce-ae06-489b-a2f9-98548c146f8c",
   "metadata": {},
   "outputs": [],
   "source": []
  }
 ],
 "metadata": {
  "kernelspec": {
   "display_name": "Python 3 (ipykernel)",
   "language": "python",
   "name": "python3"
  },
  "language_info": {
   "codemirror_mode": {
    "name": "ipython",
    "version": 3
   },
   "file_extension": ".py",
   "mimetype": "text/x-python",
   "name": "python",
   "nbconvert_exporter": "python",
   "pygments_lexer": "ipython3",
   "version": "3.11.7"
  }
 },
 "nbformat": 4,
 "nbformat_minor": 5
}
